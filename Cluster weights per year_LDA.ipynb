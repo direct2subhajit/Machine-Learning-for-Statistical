{
 "cells": [
  {
   "cell_type": "code",
   "execution_count": 3,
   "metadata": {},
   "outputs": [],
   "source": [
    "import numpy as np "
   ]
  },
  {
   "cell_type": "code",
   "execution_count": null,
   "metadata": {},
   "outputs": [],
   "source": [
    "no_topics = [5, 10, 20, 25, 50]\n",
    "no_years = 2016 - 1981\n",
    "\n",
    "for no in no_topics:\n",
    "    distribution = np.load(\"Distributions/\" + str(no) + \"topics.npy\")\n",
    "    weights = np.zeros((no_years, no))\n",
    "    start = 0\n",
    "    for i in range(1981, 2016):\n",
    "        file = \"new_data/\" + str(i) + \".npy\"\n",
    "        year = np.load(file)\n",
    "\n",
    "        year_data = distribution[start:start + len(year), :]\n",
    "\n",
    "        yearly_sum = np.sum(year_data, axis = 0)/ len(year)\n",
    "        weights[i - 1981] = yearly_sum\n",
    "        start = start + len(year)\n",
    "\n",
    "    np.save(\"Weights/\" + str(no) + \".npy\", weights)"
   ]
  },
  {
   "cell_type": "code",
   "execution_count": null,
   "metadata": {},
   "outputs": [],
   "source": []
  }
 ],
 "metadata": {
  "kernelspec": {
   "display_name": "Python 3",
   "language": "python",
   "name": "python3"
  },
  "language_info": {
   "codemirror_mode": {
    "name": "ipython",
    "version": 3
   },
   "file_extension": ".py",
   "mimetype": "text/x-python",
   "name": "python",
   "nbconvert_exporter": "python",
   "pygments_lexer": "ipython3",
   "version": "3.6.10"
  }
 },
 "nbformat": 4,
 "nbformat_minor": 4
}
