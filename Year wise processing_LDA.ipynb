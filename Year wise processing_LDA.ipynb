{
 "cells": [
  {
   "cell_type": "code",
   "execution_count": 1,
   "metadata": {},
   "outputs": [],
   "source": [
    "import json\n",
    "import numpy as np\n",
    "import os.path\n",
    "from os import path\n",
    "import sys"
   ]
  },
  {
   "cell_type": "code",
   "execution_count": 2,
   "metadata": {},
   "outputs": [],
   "source": [
    "files = ['1981_1_fulltext.json', '1981_2_fulltext.json', '1982_1_fulltext.json', '1982_2_fulltext.json', '1982_3_fulltext.json', '1983_1_fulltext.json', '1983_2_fulltext.json', '1983_3_fulltext.json', '1984_1_fulltext.json', '1984_2_fulltext.json', '1984_3_fulltext.json', '1985_1_fulltext.json', '1985_2_fulltext.json', '1986_1_fulltext.json', '1986_2_fulltext.json', '1986_3_fulltext.json', '1987_1_fulltext.json', '1987_2_fulltext.json', '1987_3_fulltext.json', '1988_1_fulltext.json', '1988_2_fulltext.json', '1988_3_fulltext.json', '1989_1_fulltext.json', '1989_2_fulltext.json', '1989_3_fulltext.json', '1990_v1_1_fulltext.json', '1990_v1_2_fulltext.json', '1991_1_fulltext.json', '1991_2_fulltext.json', '1992_1_fulltext.json', '1992_2_fulltext.json', '1993_1_fulltext.json', '1993_2_fulltext.json', '1994_1_fulltext.json', '1994_2_fulltext.json', '1995_1_fulltext.json', '1995_2_fulltext.json', '1996_1_fulltext.json', '1996_2_fulltext.json', '1997_1_fulltext.json', '1997_2_fulltext.json', '1998_1_fulltext.json', '1998_2_fulltext.json', '1999_1_fulltext.json', '1999_2_fulltext.json', '2000_1_fulltext.json', '2001_2_fulltext.json', '2002_1_fulltext.json', '2002_2_fulltext.json', '2003_1_fulltext.json', '2003_2_fulltext.json', '2004_1_fulltext.json', '2004_2_fulltext.json', '2005_1_fulltext.json', '2005_2_fulltext.json', '2006_1_fulltext.json', '2006_2_fulltext.json', '2007_1_fulltext.json', '2007_2_fulltext.json', '2008_1_fulltext.json', '2008_2_fulltext.json', '2009_1_fulltext.json', '2009_2_fulltext.json', '2010_1_fulltext.json', '2010_2_fulltext.json', '2011_1_fulltext.json', '2011_2_fulltext.json', '2012_1_fulltext.json', '2012_2_fulltext.json', '2013_1_fulltext.json', '2013_2_fulltext.json', '2014_1_fulltext.json', '2014_2_fulltext.json', '2015_1_fulltext.json', '2015_2_fulltext.json', '2016_1_fulltext.json', '2016_2_fulltext.json', '2017_1_fulltext.json', '2017_2_fulltext.json', '2018_1_fulltext.json', '2018_2_fulltext.json']"
   ]
  },
  {
   "cell_type": "code",
   "execution_count": 4,
   "metadata": {},
   "outputs": [
    {
     "name": "stdout",
     "output_type": "stream",
     "text": [
      "2000\n",
      "1981\n",
      "2010\n",
      "1982\n",
      "2010\n",
      "1983\n",
      "2010\n",
      "1984\n",
      "2000\n",
      "1985\n",
      "2010\n",
      "1986\n",
      "2010\n",
      "1987\n",
      "2010\n",
      "1988\n",
      "2010\n",
      "1989\n",
      "2000\n",
      "1990\n",
      "2000\n",
      "1991\n",
      "2000\n",
      "1992\n",
      "2000\n",
      "1993\n",
      "2009\n",
      "1994\n",
      "2000\n",
      "1995\n",
      "2000\n",
      "1996\n",
      "2000\n",
      "1997\n",
      "2000\n",
      "1998\n",
      "2000\n",
      "1999\n",
      "1000\n",
      "2000\n",
      "1009\n",
      "2001\n",
      "1990\n",
      "2002\n",
      "2000\n",
      "2003\n",
      "2000\n",
      "2004\n",
      "2000\n",
      "2005\n",
      "2000\n",
      "2006\n",
      "2000\n",
      "2007\n",
      "2000\n",
      "2008\n",
      "2000\n",
      "2009\n",
      "2000\n",
      "2010\n",
      "2000\n",
      "2011\n",
      "2000\n",
      "2012\n",
      "2000\n",
      "2013\n",
      "2000\n",
      "2014\n",
      "2000\n",
      "2015\n",
      "2000\n",
      "2016\n",
      "2000\n",
      "2017\n"
     ]
    }
   ],
   "source": [
    "prev = \"1981\"\n",
    "a = []\n",
    "for file in files:\n",
    "    if file[:4] != prev:\n",
    "        temp = prev\n",
    "        prev = file[:4]\n",
    "        np.save(\"new_data/\" + temp, a)\n",
    "        print(len(a))\n",
    "        print(temp)\n",
    "        a = []\n",
    "    path = \"FullOutput/\"\n",
    "    path += file\n",
    "    with open(path) as fp:\n",
    "        year = json.load(fp)\n",
    "    for url in year.keys():\n",
    "        body = year[url][\"body_text\"]\n",
    "        new_body = body.replace(\"*\", \"\")\n",
    "        a.append(new_body)\n",
    "\n",
    "np.save(\"new_data/2018\", a)\n"
   ]
  },
  {
   "cell_type": "code",
   "execution_count": null,
   "metadata": {},
   "outputs": [],
   "source": []
  }
 ],
 "metadata": {
  "kernelspec": {
   "display_name": "Python 3",
   "language": "python",
   "name": "python3"
  },
  "language_info": {
   "codemirror_mode": {
    "name": "ipython",
    "version": 3
   },
   "file_extension": ".py",
   "mimetype": "text/x-python",
   "name": "python",
   "nbconvert_exporter": "python",
   "pygments_lexer": "ipython3",
   "version": "3.6.10"
  }
 },
 "nbformat": 4,
 "nbformat_minor": 4
}
