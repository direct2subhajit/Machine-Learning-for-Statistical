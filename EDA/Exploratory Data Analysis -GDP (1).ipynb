{
 "cells": [
  {
   "cell_type": "code",
   "execution_count": 4,
   "metadata": {},
   "outputs": [],
   "source": [
    "## Importing Packages\n",
    "import pandas as pd\n",
    "import numpy as np\n",
    "import matplotlib.pyplot as plt\n",
    "import seaborn as sns"
   ]
  },
  {
   "cell_type": "code",
   "execution_count": 5,
   "metadata": {},
   "outputs": [
    {
     "data": {
      "text/html": [
       "<div>\n",
       "<style scoped>\n",
       "    .dataframe tbody tr th:only-of-type {\n",
       "        vertical-align: middle;\n",
       "    }\n",
       "\n",
       "    .dataframe tbody tr th {\n",
       "        vertical-align: top;\n",
       "    }\n",
       "\n",
       "    .dataframe thead th {\n",
       "        text-align: right;\n",
       "    }\n",
       "</style>\n",
       "<table border=\"1\" class=\"dataframe\">\n",
       "  <thead>\n",
       "    <tr style=\"text-align: right;\">\n",
       "      <th></th>\n",
       "      <th>Unnamed: 0</th>\n",
       "      <th>Country Code</th>\n",
       "      <th>Country Name</th>\n",
       "      <th>Subject</th>\n",
       "      <th>Measure</th>\n",
       "      <th>Year</th>\n",
       "      <th>Unit</th>\n",
       "      <th>PowerCode</th>\n",
       "      <th>Value</th>\n",
       "    </tr>\n",
       "  </thead>\n",
       "  <tbody>\n",
       "    <tr>\n",
       "      <th>0</th>\n",
       "      <td>2412</td>\n",
       "      <td>CAN</td>\n",
       "      <td>Canada</td>\n",
       "      <td>Gross Domestic Product (GDP); millions</td>\n",
       "      <td>National currency, current prices</td>\n",
       "      <td>1981</td>\n",
       "      <td>National currency</td>\n",
       "      <td>Millions</td>\n",
       "      <td>368358.000000</td>\n",
       "    </tr>\n",
       "    <tr>\n",
       "      <th>1</th>\n",
       "      <td>2413</td>\n",
       "      <td>CAN</td>\n",
       "      <td>Canada</td>\n",
       "      <td>Gross Domestic Product (GDP); millions</td>\n",
       "      <td>National currency, current prices</td>\n",
       "      <td>1982</td>\n",
       "      <td>National currency</td>\n",
       "      <td>Millions</td>\n",
       "      <td>388181.000000</td>\n",
       "    </tr>\n",
       "    <tr>\n",
       "      <th>2</th>\n",
       "      <td>2414</td>\n",
       "      <td>CAN</td>\n",
       "      <td>Canada</td>\n",
       "      <td>Gross Domestic Product (GDP); millions</td>\n",
       "      <td>National currency, current prices</td>\n",
       "      <td>1983</td>\n",
       "      <td>National currency</td>\n",
       "      <td>Millions</td>\n",
       "      <td>421316.000000</td>\n",
       "    </tr>\n",
       "    <tr>\n",
       "      <th>3</th>\n",
       "      <td>2415</td>\n",
       "      <td>CAN</td>\n",
       "      <td>Canada</td>\n",
       "      <td>Gross Domestic Product (GDP); millions</td>\n",
       "      <td>National currency, current prices</td>\n",
       "      <td>1984</td>\n",
       "      <td>National currency</td>\n",
       "      <td>Millions</td>\n",
       "      <td>461986.000000</td>\n",
       "    </tr>\n",
       "    <tr>\n",
       "      <th>4</th>\n",
       "      <td>2416</td>\n",
       "      <td>CAN</td>\n",
       "      <td>Canada</td>\n",
       "      <td>Gross Domestic Product (GDP); millions</td>\n",
       "      <td>National currency, current prices</td>\n",
       "      <td>1985</td>\n",
       "      <td>National currency</td>\n",
       "      <td>Millions</td>\n",
       "      <td>500027.000000</td>\n",
       "    </tr>\n",
       "    <tr>\n",
       "      <th>...</th>\n",
       "      <td>...</td>\n",
       "      <td>...</td>\n",
       "      <td>...</td>\n",
       "      <td>...</td>\n",
       "      <td>...</td>\n",
       "      <td>...</td>\n",
       "      <td>...</td>\n",
       "      <td>...</td>\n",
       "      <td>...</td>\n",
       "    </tr>\n",
       "    <tr>\n",
       "      <th>4426</th>\n",
       "      <td>47296</td>\n",
       "      <td>CHE</td>\n",
       "      <td>Switzerland</td>\n",
       "      <td>Gross national income per hour worked</td>\n",
       "      <td>USD, current prices, current PPPs</td>\n",
       "      <td>2014</td>\n",
       "      <td>Percentage</td>\n",
       "      <td>Units</td>\n",
       "      <td>67.017694</td>\n",
       "    </tr>\n",
       "    <tr>\n",
       "      <th>4427</th>\n",
       "      <td>47297</td>\n",
       "      <td>CHE</td>\n",
       "      <td>Switzerland</td>\n",
       "      <td>Gross national income per hour worked</td>\n",
       "      <td>USD, current prices, current PPPs</td>\n",
       "      <td>2015</td>\n",
       "      <td>Percentage</td>\n",
       "      <td>Units</td>\n",
       "      <td>69.574872</td>\n",
       "    </tr>\n",
       "    <tr>\n",
       "      <th>4428</th>\n",
       "      <td>47298</td>\n",
       "      <td>CHE</td>\n",
       "      <td>Switzerland</td>\n",
       "      <td>Gross national income per hour worked</td>\n",
       "      <td>USD, current prices, current PPPs</td>\n",
       "      <td>2016</td>\n",
       "      <td>Percentage</td>\n",
       "      <td>Units</td>\n",
       "      <td>69.891469</td>\n",
       "    </tr>\n",
       "    <tr>\n",
       "      <th>4429</th>\n",
       "      <td>47299</td>\n",
       "      <td>CHE</td>\n",
       "      <td>Switzerland</td>\n",
       "      <td>Gross national income per hour worked</td>\n",
       "      <td>USD, current prices, current PPPs</td>\n",
       "      <td>2017</td>\n",
       "      <td>Percentage</td>\n",
       "      <td>Units</td>\n",
       "      <td>71.011882</td>\n",
       "    </tr>\n",
       "    <tr>\n",
       "      <th>4430</th>\n",
       "      <td>47300</td>\n",
       "      <td>CHE</td>\n",
       "      <td>Switzerland</td>\n",
       "      <td>Gross national income per hour worked</td>\n",
       "      <td>USD, current prices, current PPPs</td>\n",
       "      <td>2018</td>\n",
       "      <td>Percentage</td>\n",
       "      <td>Units</td>\n",
       "      <td>75.039923</td>\n",
       "    </tr>\n",
       "  </tbody>\n",
       "</table>\n",
       "<p>4431 rows × 9 columns</p>\n",
       "</div>"
      ],
      "text/plain": [
       "      Unnamed: 0 Country Code Country Name  \\\n",
       "0           2412          CAN       Canada   \n",
       "1           2413          CAN       Canada   \n",
       "2           2414          CAN       Canada   \n",
       "3           2415          CAN       Canada   \n",
       "4           2416          CAN       Canada   \n",
       "...          ...          ...          ...   \n",
       "4426       47296          CHE  Switzerland   \n",
       "4427       47297          CHE  Switzerland   \n",
       "4428       47298          CHE  Switzerland   \n",
       "4429       47299          CHE  Switzerland   \n",
       "4430       47300          CHE  Switzerland   \n",
       "\n",
       "                                     Subject  \\\n",
       "0     Gross Domestic Product (GDP); millions   \n",
       "1     Gross Domestic Product (GDP); millions   \n",
       "2     Gross Domestic Product (GDP); millions   \n",
       "3     Gross Domestic Product (GDP); millions   \n",
       "4     Gross Domestic Product (GDP); millions   \n",
       "...                                      ...   \n",
       "4426   Gross national income per hour worked   \n",
       "4427   Gross national income per hour worked   \n",
       "4428   Gross national income per hour worked   \n",
       "4429   Gross national income per hour worked   \n",
       "4430   Gross national income per hour worked   \n",
       "\n",
       "                                Measure  Year               Unit PowerCode  \\\n",
       "0     National currency, current prices  1981  National currency  Millions   \n",
       "1     National currency, current prices  1982  National currency  Millions   \n",
       "2     National currency, current prices  1983  National currency  Millions   \n",
       "3     National currency, current prices  1984  National currency  Millions   \n",
       "4     National currency, current prices  1985  National currency  Millions   \n",
       "...                                 ...   ...                ...       ...   \n",
       "4426  USD, current prices, current PPPs  2014         Percentage     Units   \n",
       "4427  USD, current prices, current PPPs  2015         Percentage     Units   \n",
       "4428  USD, current prices, current PPPs  2016         Percentage     Units   \n",
       "4429  USD, current prices, current PPPs  2017         Percentage     Units   \n",
       "4430  USD, current prices, current PPPs  2018         Percentage     Units   \n",
       "\n",
       "              Value  \n",
       "0     368358.000000  \n",
       "1     388181.000000  \n",
       "2     421316.000000  \n",
       "3     461986.000000  \n",
       "4     500027.000000  \n",
       "...             ...  \n",
       "4426      67.017694  \n",
       "4427      69.574872  \n",
       "4428      69.891469  \n",
       "4429      71.011882  \n",
       "4430      75.039923  \n",
       "\n",
       "[4431 rows x 9 columns]"
      ]
     },
     "execution_count": 5,
     "metadata": {},
     "output_type": "execute_result"
    }
   ],
   "source": [
    "# Uploading data\n",
    "gdp = pd.read_csv ('GDP_YearWise.csv')\n",
    "gdp"
   ]
  },
  {
   "cell_type": "code",
   "execution_count": 123,
   "metadata": {},
   "outputs": [
    {
     "data": {
      "text/html": [
       "<div>\n",
       "<style scoped>\n",
       "    .dataframe tbody tr th:only-of-type {\n",
       "        vertical-align: middle;\n",
       "    }\n",
       "\n",
       "    .dataframe tbody tr th {\n",
       "        vertical-align: top;\n",
       "    }\n",
       "\n",
       "    .dataframe thead th {\n",
       "        text-align: right;\n",
       "    }\n",
       "</style>\n",
       "<table border=\"1\" class=\"dataframe\">\n",
       "  <thead>\n",
       "    <tr style=\"text-align: right;\">\n",
       "      <th></th>\n",
       "      <th>Country Code</th>\n",
       "      <th>Country Name</th>\n",
       "      <th>Subject</th>\n",
       "      <th>Measure</th>\n",
       "      <th>Year</th>\n",
       "      <th>Unit</th>\n",
       "      <th>PowerCode</th>\n",
       "      <th>Value</th>\n",
       "    </tr>\n",
       "  </thead>\n",
       "  <tbody>\n",
       "    <tr>\n",
       "      <th>0</th>\n",
       "      <td>CAN</td>\n",
       "      <td>Canada</td>\n",
       "      <td>Gross Domestic Product (GDP); millions</td>\n",
       "      <td>National currency, current prices</td>\n",
       "      <td>1981</td>\n",
       "      <td>National currency</td>\n",
       "      <td>Millions</td>\n",
       "      <td>368358.000000</td>\n",
       "    </tr>\n",
       "    <tr>\n",
       "      <th>1</th>\n",
       "      <td>CAN</td>\n",
       "      <td>Canada</td>\n",
       "      <td>Gross Domestic Product (GDP); millions</td>\n",
       "      <td>National currency, current prices</td>\n",
       "      <td>1982</td>\n",
       "      <td>National currency</td>\n",
       "      <td>Millions</td>\n",
       "      <td>388181.000000</td>\n",
       "    </tr>\n",
       "    <tr>\n",
       "      <th>2</th>\n",
       "      <td>CAN</td>\n",
       "      <td>Canada</td>\n",
       "      <td>Gross Domestic Product (GDP); millions</td>\n",
       "      <td>National currency, current prices</td>\n",
       "      <td>1983</td>\n",
       "      <td>National currency</td>\n",
       "      <td>Millions</td>\n",
       "      <td>421316.000000</td>\n",
       "    </tr>\n",
       "    <tr>\n",
       "      <th>3</th>\n",
       "      <td>CAN</td>\n",
       "      <td>Canada</td>\n",
       "      <td>Gross Domestic Product (GDP); millions</td>\n",
       "      <td>National currency, current prices</td>\n",
       "      <td>1984</td>\n",
       "      <td>National currency</td>\n",
       "      <td>Millions</td>\n",
       "      <td>461986.000000</td>\n",
       "    </tr>\n",
       "    <tr>\n",
       "      <th>4</th>\n",
       "      <td>CAN</td>\n",
       "      <td>Canada</td>\n",
       "      <td>Gross Domestic Product (GDP); millions</td>\n",
       "      <td>National currency, current prices</td>\n",
       "      <td>1985</td>\n",
       "      <td>National currency</td>\n",
       "      <td>Millions</td>\n",
       "      <td>500027.000000</td>\n",
       "    </tr>\n",
       "    <tr>\n",
       "      <th>...</th>\n",
       "      <td>...</td>\n",
       "      <td>...</td>\n",
       "      <td>...</td>\n",
       "      <td>...</td>\n",
       "      <td>...</td>\n",
       "      <td>...</td>\n",
       "      <td>...</td>\n",
       "      <td>...</td>\n",
       "    </tr>\n",
       "    <tr>\n",
       "      <th>4426</th>\n",
       "      <td>CHE</td>\n",
       "      <td>Switzerland</td>\n",
       "      <td>Gross national income per hour worked</td>\n",
       "      <td>USD, current prices, current PPPs</td>\n",
       "      <td>2014</td>\n",
       "      <td>Percentage</td>\n",
       "      <td>Units</td>\n",
       "      <td>67.017694</td>\n",
       "    </tr>\n",
       "    <tr>\n",
       "      <th>4427</th>\n",
       "      <td>CHE</td>\n",
       "      <td>Switzerland</td>\n",
       "      <td>Gross national income per hour worked</td>\n",
       "      <td>USD, current prices, current PPPs</td>\n",
       "      <td>2015</td>\n",
       "      <td>Percentage</td>\n",
       "      <td>Units</td>\n",
       "      <td>69.574872</td>\n",
       "    </tr>\n",
       "    <tr>\n",
       "      <th>4428</th>\n",
       "      <td>CHE</td>\n",
       "      <td>Switzerland</td>\n",
       "      <td>Gross national income per hour worked</td>\n",
       "      <td>USD, current prices, current PPPs</td>\n",
       "      <td>2016</td>\n",
       "      <td>Percentage</td>\n",
       "      <td>Units</td>\n",
       "      <td>69.891469</td>\n",
       "    </tr>\n",
       "    <tr>\n",
       "      <th>4429</th>\n",
       "      <td>CHE</td>\n",
       "      <td>Switzerland</td>\n",
       "      <td>Gross national income per hour worked</td>\n",
       "      <td>USD, current prices, current PPPs</td>\n",
       "      <td>2017</td>\n",
       "      <td>Percentage</td>\n",
       "      <td>Units</td>\n",
       "      <td>71.011882</td>\n",
       "    </tr>\n",
       "    <tr>\n",
       "      <th>4430</th>\n",
       "      <td>CHE</td>\n",
       "      <td>Switzerland</td>\n",
       "      <td>Gross national income per hour worked</td>\n",
       "      <td>USD, current prices, current PPPs</td>\n",
       "      <td>2018</td>\n",
       "      <td>Percentage</td>\n",
       "      <td>Units</td>\n",
       "      <td>75.039923</td>\n",
       "    </tr>\n",
       "  </tbody>\n",
       "</table>\n",
       "<p>4431 rows × 8 columns</p>\n",
       "</div>"
      ],
      "text/plain": [
       "     Country Code Country Name                                 Subject  \\\n",
       "0             CAN       Canada  Gross Domestic Product (GDP); millions   \n",
       "1             CAN       Canada  Gross Domestic Product (GDP); millions   \n",
       "2             CAN       Canada  Gross Domestic Product (GDP); millions   \n",
       "3             CAN       Canada  Gross Domestic Product (GDP); millions   \n",
       "4             CAN       Canada  Gross Domestic Product (GDP); millions   \n",
       "...           ...          ...                                     ...   \n",
       "4426          CHE  Switzerland   Gross national income per hour worked   \n",
       "4427          CHE  Switzerland   Gross national income per hour worked   \n",
       "4428          CHE  Switzerland   Gross national income per hour worked   \n",
       "4429          CHE  Switzerland   Gross national income per hour worked   \n",
       "4430          CHE  Switzerland   Gross national income per hour worked   \n",
       "\n",
       "                                Measure  Year               Unit PowerCode  \\\n",
       "0     National currency, current prices  1981  National currency  Millions   \n",
       "1     National currency, current prices  1982  National currency  Millions   \n",
       "2     National currency, current prices  1983  National currency  Millions   \n",
       "3     National currency, current prices  1984  National currency  Millions   \n",
       "4     National currency, current prices  1985  National currency  Millions   \n",
       "...                                 ...   ...                ...       ...   \n",
       "4426  USD, current prices, current PPPs  2014         Percentage     Units   \n",
       "4427  USD, current prices, current PPPs  2015         Percentage     Units   \n",
       "4428  USD, current prices, current PPPs  2016         Percentage     Units   \n",
       "4429  USD, current prices, current PPPs  2017         Percentage     Units   \n",
       "4430  USD, current prices, current PPPs  2018         Percentage     Units   \n",
       "\n",
       "              Value  \n",
       "0     368358.000000  \n",
       "1     388181.000000  \n",
       "2     421316.000000  \n",
       "3     461986.000000  \n",
       "4     500027.000000  \n",
       "...             ...  \n",
       "4426      67.017694  \n",
       "4427      69.574872  \n",
       "4428      69.891469  \n",
       "4429      71.011882  \n",
       "4430      75.039923  \n",
       "\n",
       "[4431 rows x 8 columns]"
      ]
     },
     "execution_count": 123,
     "metadata": {},
     "output_type": "execute_result"
    }
   ],
   "source": [
    "# Dropping column\n",
    "gdp= gdp.drop('Unnamed: 0',axis=1)\n",
    "gdp"
   ]
  },
  {
   "cell_type": "code",
   "execution_count": 124,
   "metadata": {},
   "outputs": [
    {
     "data": {
      "text/plain": [
       "Country Code     object\n",
       "Country Name     object\n",
       "Subject          object\n",
       "Measure          object\n",
       "Year              int64\n",
       "Unit             object\n",
       "PowerCode        object\n",
       "Value           float64\n",
       "dtype: object"
      ]
     },
     "execution_count": 124,
     "metadata": {},
     "output_type": "execute_result"
    }
   ],
   "source": [
    "# Checking the data type\n",
    "gdp.dtypes"
   ]
  },
  {
   "cell_type": "code",
   "execution_count": 125,
   "metadata": {},
   "outputs": [
    {
     "data": {
      "text/plain": [
       "Index(['Country Code', 'Country Name', 'Subject', 'Measure', 'Year', 'Unit',\n",
       "       'PowerCode', 'Value'],\n",
       "      dtype='object')"
      ]
     },
     "execution_count": 125,
     "metadata": {},
     "output_type": "execute_result"
    }
   ],
   "source": [
    "gdp.columns"
   ]
  },
  {
   "cell_type": "code",
   "execution_count": 126,
   "metadata": {},
   "outputs": [
    {
     "data": {
      "text/plain": [
       "(4431, 8)"
      ]
     },
     "execution_count": 126,
     "metadata": {},
     "output_type": "execute_result"
    }
   ],
   "source": [
    "gdp.shape"
   ]
  },
  {
   "cell_type": "markdown",
   "metadata": {},
   "source": [
    "###### Dateset comprises of 4431 observation and 8 characteristics.\n",
    "###### Out of which one is dependent variable and rest 7 are independent variables."
   ]
  },
  {
   "cell_type": "code",
   "execution_count": 127,
   "metadata": {},
   "outputs": [
    {
     "name": "stdout",
     "output_type": "stream",
     "text": [
      "number of duplicate rows:  (0, 8)\n"
     ]
    }
   ],
   "source": [
    "duplicate_rows_gdp = gdp[gdp.duplicated()]\n",
    "print(\"number of duplicate rows: \", duplicate_rows_gdp.shape)"
   ]
  },
  {
   "cell_type": "code",
   "execution_count": 128,
   "metadata": {},
   "outputs": [
    {
     "data": {
      "text/plain": [
       "Country Code    4431\n",
       "Country Name    4431\n",
       "Subject         4431\n",
       "Measure         4431\n",
       "Year            4431\n",
       "Unit            4431\n",
       "PowerCode       4431\n",
       "Value           4431\n",
       "dtype: int64"
      ]
     },
     "execution_count": 128,
     "metadata": {},
     "output_type": "execute_result"
    }
   ],
   "source": [
    "gdp.count()"
   ]
  },
  {
   "cell_type": "markdown",
   "metadata": {},
   "source": [
    "###### This tells us gdp score is all in same order"
   ]
  },
  {
   "cell_type": "markdown",
   "metadata": {},
   "source": [
    "## Finding the null values"
   ]
  },
  {
   "cell_type": "markdown",
   "metadata": {},
   "source": [
    "###### It is also a good practice to know the columns and their corresponding data types , \n",
    "###### along with finding whether they contain null values or not "
   ]
  },
  {
   "cell_type": "code",
   "execution_count": 129,
   "metadata": {},
   "outputs": [
    {
     "name": "stdout",
     "output_type": "stream",
     "text": [
      "<class 'pandas.core.frame.DataFrame'>\n",
      "RangeIndex: 4431 entries, 0 to 4430\n",
      "Data columns (total 8 columns):\n",
      " #   Column        Non-Null Count  Dtype  \n",
      "---  ------        --------------  -----  \n",
      " 0   Country Code  4431 non-null   object \n",
      " 1   Country Name  4431 non-null   object \n",
      " 2   Subject       4431 non-null   object \n",
      " 3   Measure       4431 non-null   object \n",
      " 4   Year          4431 non-null   int64  \n",
      " 5   Unit          4431 non-null   object \n",
      " 6   PowerCode     4431 non-null   object \n",
      " 7   Value         4431 non-null   float64\n",
      "dtypes: float64(1), int64(1), object(6)\n",
      "memory usage: 277.1+ KB\n"
     ]
    }
   ],
   "source": [
    "gdp.info()"
   ]
  },
  {
   "cell_type": "markdown",
   "metadata": {},
   "source": [
    "### Dropping the missing or null values"
   ]
  },
  {
   "cell_type": "markdown",
   "metadata": {},
   "source": [
    "###### Data has flot , integer and object values.\n",
    "###### No variable column has null/ missing values."
   ]
  },
  {
   "cell_type": "code",
   "execution_count": 130,
   "metadata": {},
   "outputs": [
    {
     "name": "stdout",
     "output_type": "stream",
     "text": [
      "Country Code    0\n",
      "Country Name    0\n",
      "Subject         0\n",
      "Measure         0\n",
      "Year            0\n",
      "Unit            0\n",
      "PowerCode       0\n",
      "Value           0\n",
      "dtype: int64\n"
     ]
    }
   ],
   "source": [
    "# Finding the null values.\n",
    "print(gdp.isnull().sum())"
   ]
  },
  {
   "cell_type": "markdown",
   "metadata": {},
   "source": [
    "###### The describe() function in pandas is very handy in getting various summary statistics. This function returns the count, mean, standard deviation, minimum and maximum values and the quantiles of the data."
   ]
  },
  {
   "cell_type": "code",
   "execution_count": 133,
   "metadata": {},
   "outputs": [
    {
     "data": {
      "text/html": [
       "<div>\n",
       "<style scoped>\n",
       "    .dataframe tbody tr th:only-of-type {\n",
       "        vertical-align: middle;\n",
       "    }\n",
       "\n",
       "    .dataframe tbody tr th {\n",
       "        vertical-align: top;\n",
       "    }\n",
       "\n",
       "    .dataframe thead th {\n",
       "        text-align: right;\n",
       "    }\n",
       "</style>\n",
       "<table border=\"1\" class=\"dataframe\">\n",
       "  <thead>\n",
       "    <tr style=\"text-align: right;\">\n",
       "      <th></th>\n",
       "      <th>Year</th>\n",
       "      <th>Value</th>\n",
       "    </tr>\n",
       "  </thead>\n",
       "  <tbody>\n",
       "    <tr>\n",
       "      <th>count</th>\n",
       "      <td>4431.000000</td>\n",
       "      <td>4.431000e+03</td>\n",
       "    </tr>\n",
       "    <tr>\n",
       "      <th>mean</th>\n",
       "      <td>2000.531257</td>\n",
       "      <td>4.890599e+06</td>\n",
       "    </tr>\n",
       "    <tr>\n",
       "      <th>std</th>\n",
       "      <td>11.182454</td>\n",
       "      <td>4.538891e+07</td>\n",
       "    </tr>\n",
       "    <tr>\n",
       "      <th>min</th>\n",
       "      <td>1981.000000</td>\n",
       "      <td>-9.443420e+01</td>\n",
       "    </tr>\n",
       "    <tr>\n",
       "      <th>25%</th>\n",
       "      <td>1991.000000</td>\n",
       "      <td>4.752017e+01</td>\n",
       "    </tr>\n",
       "    <tr>\n",
       "      <th>50%</th>\n",
       "      <td>2001.000000</td>\n",
       "      <td>1.810000e+03</td>\n",
       "    </tr>\n",
       "    <tr>\n",
       "      <th>75%</th>\n",
       "      <td>2010.000000</td>\n",
       "      <td>6.516961e+04</td>\n",
       "    </tr>\n",
       "    <tr>\n",
       "      <th>max</th>\n",
       "      <td>2019.000000</td>\n",
       "      <td>5.539620e+08</td>\n",
       "    </tr>\n",
       "  </tbody>\n",
       "</table>\n",
       "</div>"
      ],
      "text/plain": [
       "              Year         Value\n",
       "count  4431.000000  4.431000e+03\n",
       "mean   2000.531257  4.890599e+06\n",
       "std      11.182454  4.538891e+07\n",
       "min    1981.000000 -9.443420e+01\n",
       "25%    1991.000000  4.752017e+01\n",
       "50%    2001.000000  1.810000e+03\n",
       "75%    2010.000000  6.516961e+04\n",
       "max    2019.000000  5.539620e+08"
      ]
     },
     "execution_count": 133,
     "metadata": {},
     "output_type": "execute_result"
    }
   ],
   "source": [
    "gdp.describe()"
   ]
  },
  {
   "cell_type": "markdown",
   "metadata": {},
   "source": [
    "###### Thus observations 1 and 2 suggests that there are extreme values-Outliers in our data set."
   ]
  },
  {
   "cell_type": "markdown",
   "metadata": {},
   "source": [
    "### Detecting Outliers"
   ]
  },
  {
   "cell_type": "code",
   "execution_count": 131,
   "metadata": {
    "scrolled": true
   },
   "outputs": [
    {
     "data": {
      "image/png": "[encoded data removed]",
      "text/plain": [
       "<Figure size 432x288 with 1 Axes>"
      ]
     },
     "metadata": {
      "needs_background": "light"
     },
     "output_type": "display_data"
    }
   ],
   "source": [
    "gdp.boxplot(column=[\"Year\"])\n",
    "plt.show()"
   ]
  },
  {
   "cell_type": "code",
   "execution_count": 132,
   "metadata": {
    "scrolled": false
   },
   "outputs": [
    {
     "data": {
      "image/png": "[encoded data removed]",
      "text/plain": [
       "<Figure size 432x288 with 1 Axes>"
      ]
     },
     "metadata": {
      "needs_background": "light"
     },
     "output_type": "display_data"
    }
   ],
   "source": [
    "gdp.boxplot(column=[\"Value\"])\n",
    "plt.show()"
   ]
  },
  {
   "cell_type": "markdown",
   "metadata": {},
   "source": [
    "### Pair Plots"
   ]
  },
  {
   "cell_type": "markdown",
   "metadata": {},
   "source": [
    "###### Pair plots are scatter plots, which will help us to visualize more than one variable on scatter plots at a time. This will help us to analyze the multiple quantitative variables at time.But it will become pain when we have more than 5 columns to analyze and chart will become very small as no of columns gets increases. we can draw pair plots only on quantitative variables."
   ]
  },
  {
   "cell_type": "code",
   "execution_count": 134,
   "metadata": {},
   "outputs": [
    {
     "data": {
      "text/plain": [
       "<seaborn.axisgrid.PairGrid at 0xa0ff31c390>"
      ]
     },
     "execution_count": 134,
     "metadata": {},
     "output_type": "execute_result"
    },
    {
     "data": {
      "image/png": "[encoded data removed]",
      "text/plain": [
       "<Figure size 241.5x180 with 2 Axes>"
      ]
     },
     "metadata": {
      "needs_background": "light"
     },
     "output_type": "display_data"
    }
   ],
   "source": [
    "sns.pairplot(gdp,hue ='Year')"
   ]
  },
  {
   "cell_type": "markdown",
   "metadata": {},
   "source": [
    "### Countplot"
   ]
  },
  {
   "cell_type": "code",
   "execution_count": 135,
   "metadata": {},
   "outputs": [
    {
     "data": {
      "text/plain": [
       "1.538000e+03    3\n",
       "4.467141e+04    2\n",
       "1.594899e+06    2\n",
       "6.961457e+06    2\n",
       "7.030002e+01    2\n",
       "               ..\n",
       "1.251160e+05    1\n",
       "1.142815e+02    1\n",
       "7.258301e+02    1\n",
       "3.987025e+04    1\n",
       "3.287492e+04    1\n",
       "Name: Value, Length: 4406, dtype: int64"
      ]
     },
     "execution_count": 135,
     "metadata": {},
     "output_type": "execute_result"
    }
   ],
   "source": [
    "gdp['Value'].value_counts()"
   ]
  },
  {
   "cell_type": "code",
   "execution_count": 136,
   "metadata": {},
   "outputs": [
    {
     "data": {
      "text/plain": [
       "<AxesSubplot:xlabel='Value', ylabel='count'>"
      ]
     },
     "execution_count": 136,
     "metadata": {},
     "output_type": "execute_result"
    },
    {
     "data": {
      "image/png": "[encoded data removed]",
      "text/plain": [
       "<Figure size 432x288 with 1 Axes>"
      ]
     },
     "metadata": {
      "needs_background": "light"
     },
     "output_type": "display_data"
    }
   ],
   "source": [
    "sns.countplot(x= gdp['Value'])"
   ]
  },
  {
   "cell_type": "markdown",
   "metadata": {},
   "source": [
    "###### Pie. Presents values as part of a whole using colors to separate the segments. Pie charts emphasize where your data fits in relation to the larger whole. The following field containers are available for this chart type: Rows, Columns, Measure, Color, and Size"
   ]
  },
  {
   "cell_type": "code",
   "execution_count": 137,
   "metadata": {},
   "outputs": [
    {
     "data": {
      "text/plain": [
       "Canada            1014\n",
       "United Kingdom    1014\n",
       "Switzerland       1013\n",
       "Japan             1013\n",
       "India              377\n",
       "Name: Country Name, dtype: int64"
      ]
     },
     "execution_count": 137,
     "metadata": {},
     "output_type": "execute_result"
    }
   ],
   "source": [
    "gdp['Country Name'].value_counts()"
   ]
  },
  {
   "cell_type": "code",
   "execution_count": 6,
   "metadata": {},
   "outputs": [
    {
     "data": {
      "image/png": "[encoded data removed]",
      "text/plain": [
       "<Figure size 864x720 with 1 Axes>"
      ]
     },
     "metadata": {},
     "output_type": "display_data"
    }
   ],
   "source": [
    "plt.figure(figsize=(12,10))\n",
    "gdp['Country Name'].value_counts().plot.pie(autopct=\"%2.1f%%\")\n",
    "plt.show()"
   ]
  },
  {
   "cell_type": "code",
   "execution_count": 139,
   "metadata": {},
   "outputs": [
    {
     "data": {
      "text/plain": [
       "Canada            1014\n",
       "United Kingdom    1014\n",
       "Switzerland       1013\n",
       "Japan             1013\n",
       "India              377\n",
       "Name: Country Name, dtype: int64"
      ]
     },
     "execution_count": 139,
     "metadata": {},
     "output_type": "execute_result"
    }
   ],
   "source": [
    "gdp['Country Name'].value_counts()"
   ]
  },
  {
   "cell_type": "code",
   "execution_count": 140,
   "metadata": {},
   "outputs": [
    {
     "data": {
      "image/png": "[encoded data removed]",
      "text/plain": [
       "<Figure size 864x720 with 1 Axes>"
      ]
     },
     "metadata": {},
     "output_type": "display_data"
    }
   ],
   "source": [
    "plt.figure(figsize=(12,10))\n",
    "gdp['Country Code'].value_counts().plot.pie(autopct=\"%1.2f%%\")\n",
    "plt.show()"
   ]
  },
  {
   "cell_type": "code",
   "execution_count": 141,
   "metadata": {},
   "outputs": [
    {
     "data": {
      "text/plain": [
       "<AxesSubplot:xlabel='Country Code', ylabel='count'>"
      ]
     },
     "execution_count": 141,
     "metadata": {},
     "output_type": "execute_result"
    },
    {
     "data": {
      "image/png": "[encoded data removed]",
      "text/plain": [
       "<Figure size 432x288 with 1 Axes>"
      ]
     },
     "metadata": {
      "needs_background": "light"
     },
     "output_type": "display_data"
    }
   ],
   "source": [
    "sns.countplot(x= gdp['Country Code'])"
   ]
  },
  {
   "cell_type": "markdown",
   "metadata": {},
   "source": [
    "###### From the visualization we can easily see that most Countey code count in same condition, and very few Country code in INIDA."
   ]
  },
  {
   "cell_type": "markdown",
   "metadata": {},
   "source": [
    "### Histogram"
   ]
  },
  {
   "cell_type": "code",
   "execution_count": 142,
   "metadata": {},
   "outputs": [
    {
     "data": {
      "text/plain": [
       "array([[<AxesSubplot:title={'center':'Year'}>,\n",
       "        <AxesSubplot:title={'center':'Value'}>]], dtype=object)"
      ]
     },
     "execution_count": 142,
     "metadata": {},
     "output_type": "execute_result"
    },
    {
     "data": {
      "image/png": "[encoded data removed]",
      "text/plain": [
       "<Figure size 720x576 with 2 Axes>"
      ]
     },
     "metadata": {
      "needs_background": "light"
     },
     "output_type": "display_data"
    }
   ],
   "source": [
    "gdp.hist(figsize=(10, 8), bins=20, xlabelsize=8, ylabelsize=8)"
   ]
  },
  {
   "cell_type": "markdown",
   "metadata": {},
   "source": [
    "###### A histogram takes in a series of data and divides the data into a number of bins. It then plots the frequency data points in each bin. It is useful in understanding the count of data ranges."
   ]
  },
  {
   "cell_type": "markdown",
   "metadata": {},
   "source": [
    "### Violinplot"
   ]
  },
  {
   "cell_type": "code",
   "execution_count": 143,
   "metadata": {},
   "outputs": [
    {
     "data": {
      "text/plain": [
       "<AxesSubplot:xlabel='Year', ylabel='Country Name'>"
      ]
     },
     "execution_count": 143,
     "metadata": {},
     "output_type": "execute_result"
    },
    {
     "data": {
      "image/png": "[encoded data removed]",
      "text/plain": [
       "<Figure size 432x288 with 1 Axes>"
      ]
     },
     "metadata": {
      "needs_background": "light"
     },
     "output_type": "display_data"
    }
   ],
   "source": [
    "sns.violinplot(x=\"Year\",y=\"Country Name\",data=gdp)"
   ]
  },
  {
   "cell_type": "markdown",
   "metadata": {},
   "source": [
    "### Heat Maps"
   ]
  },
  {
   "cell_type": "markdown",
   "metadata": {},
   "source": [
    "###### To use linear regression for modelling,its necessary to remove correlated variables to improve your model.One can find correlations using pandas “.corr()” function and can visualize the correlation matrix using a heatmap in seaborn"
   ]
  },
  {
   "cell_type": "code",
   "execution_count": 144,
   "metadata": {},
   "outputs": [
    {
     "data": {
      "text/html": [
       "<div>\n",
       "<style scoped>\n",
       "    .dataframe tbody tr th:only-of-type {\n",
       "        vertical-align: middle;\n",
       "    }\n",
       "\n",
       "    .dataframe tbody tr th {\n",
       "        vertical-align: top;\n",
       "    }\n",
       "\n",
       "    .dataframe thead th {\n",
       "        text-align: right;\n",
       "    }\n",
       "</style>\n",
       "<table border=\"1\" class=\"dataframe\">\n",
       "  <thead>\n",
       "    <tr style=\"text-align: right;\">\n",
       "      <th></th>\n",
       "      <th>Year</th>\n",
       "      <th>Value</th>\n",
       "    </tr>\n",
       "  </thead>\n",
       "  <tbody>\n",
       "    <tr>\n",
       "      <th>Year</th>\n",
       "      <td>1.000000</td>\n",
       "      <td>0.019831</td>\n",
       "    </tr>\n",
       "    <tr>\n",
       "      <th>Value</th>\n",
       "      <td>0.019831</td>\n",
       "      <td>1.000000</td>\n",
       "    </tr>\n",
       "  </tbody>\n",
       "</table>\n",
       "</div>"
      ],
      "text/plain": [
       "           Year     Value\n",
       "Year   1.000000  0.019831\n",
       "Value  0.019831  1.000000"
      ]
     },
     "execution_count": 144,
     "metadata": {},
     "output_type": "execute_result"
    }
   ],
   "source": [
    "corr = gdp.corr()\n",
    "gdp.corr()"
   ]
  },
  {
   "cell_type": "code",
   "execution_count": 145,
   "metadata": {},
   "outputs": [
    {
     "data": {
      "text/plain": [
       "<AxesSubplot:>"
      ]
     },
     "execution_count": 145,
     "metadata": {},
     "output_type": "execute_result"
    },
    {
     "data": {
      "image/png": "[encoded data removed]",
      "text/plain": [
       "<Figure size 720x576 with 2 Axes>"
      ]
     },
     "metadata": {
      "needs_background": "light"
     },
     "output_type": "display_data"
    }
   ],
   "source": [
    "# Finding the relations between the variables.\n",
    "plt.figure(figsize=(10,8))\n",
    "c= gdp.corr()\n",
    "sns.heatmap(c,cmap=\"BrBG\",annot=True)"
   ]
  },
  {
   "cell_type": "markdown",
   "metadata": {},
   "source": [
    "###### Dark shades represents positive correlation while lighter shades represents negative correlation."
   ]
  },
  {
   "cell_type": "markdown",
   "metadata": {},
   "source": [
    "### Group plot"
   ]
  },
  {
   "cell_type": "code",
   "execution_count": 146,
   "metadata": {},
   "outputs": [
    {
     "data": {
      "text/plain": [
       "<matplotlib.legend.Legend at 0xa089345908>"
      ]
     },
     "execution_count": 146,
     "metadata": {},
     "output_type": "execute_result"
    },
    {
     "data": {
      "image/png": "[encoded data removed]",
      "text/plain": [
       "<Figure size 1080x432 with 1 Axes>"
      ]
     },
     "metadata": {
      "needs_background": "light"
     },
     "output_type": "display_data"
    }
   ],
   "source": [
    "gdp.groupby('Country Name')[['Year','Value']].sum().plot(kind='bar',color=['yellow','blue'],figsize=(15,6))\n",
    "plt.ylabel('Year and Value')\n",
    "plt.legend()"
   ]
  },
  {
   "cell_type": "code",
   "execution_count": 147,
   "metadata": {},
   "outputs": [
    {
     "data": {
      "text/plain": [
       "<matplotlib.legend.Legend at 0xa089345c18>"
      ]
     },
     "execution_count": 147,
     "metadata": {},
     "output_type": "execute_result"
    },
    {
     "data": {
      "image/png": "[encoded data removed]",
      "text/plain": [
       "<Figure size 720x432 with 1 Axes>"
      ]
     },
     "metadata": {
      "needs_background": "light"
     },
     "output_type": "display_data"
    }
   ],
   "source": [
    "gdp.groupby('Country Code')[['Year','Value']].sum().plot(kind='bar',color=['yellow','red'],figsize=(10,6))\n",
    "plt.ylabel('Year and Value')\n",
    "plt.legend()"
   ]
  },
  {
   "cell_type": "markdown",
   "metadata": {},
   "source": [
    "### scatter plot"
   ]
  },
  {
   "cell_type": "markdown",
   "metadata": {},
   "source": [
    "###### The extra benefit we will get with scatter plots is we can draw a plot between categorical and quantitative variables. I have drawn two scatter plots to identify the relationship between different data points in the data-set."
   ]
  },
  {
   "cell_type": "code",
   "execution_count": 148,
   "metadata": {},
   "outputs": [
    {
     "data": {
      "image/png": "[encoded data removed]",
      "text/plain": [
       "<Figure size 720x432 with 1 Axes>"
      ]
     },
     "metadata": {
      "needs_background": "light"
     },
     "output_type": "display_data"
    }
   ],
   "source": [
    "# Plotting a scatter plot\n",
    "fig, ax = plt.subplots(figsize=(10,6))\n",
    "ax.scatter(gdp['Country Name'], gdp['Value'])\n",
    "ax.set_xlabel('Country Name')\n",
    "ax.set_ylabel('Value')\n",
    "plt.show()"
   ]
  },
  {
   "cell_type": "code",
   "execution_count": 149,
   "metadata": {
    "scrolled": true
   },
   "outputs": [
    {
     "data": {
      "image/png": "[encoded data removed]",
      "text/plain": [
       "<Figure size 720x432 with 1 Axes>"
      ]
     },
     "metadata": {
      "needs_background": "light"
     },
     "output_type": "display_data"
    }
   ],
   "source": [
    "# Plotting a scatter plot\n",
    "fig, ax = plt.subplots(figsize=(10,6))\n",
    "ax.scatter(gdp['Subject'], gdp['PowerCode'])\n",
    "ax.set_xlabel('Subject')\n",
    "ax.set_ylabel('PowerCode')\n",
    "plt.show()"
   ]
  },
  {
   "cell_type": "code",
   "execution_count": 150,
   "metadata": {},
   "outputs": [
    {
     "data": {
      "image/png": "[encoded data removed]",
      "text/plain": [
       "<Figure size 720x288 with 2 Axes>"
      ]
     },
     "metadata": {
      "needs_background": "light"
     },
     "output_type": "display_data"
    }
   ],
   "source": [
    "# Let's specifically look at the 2 variables we know\n",
    "\n",
    "plt.figure(figsize = (10,4))\n",
    "\n",
    "# Year\n",
    "plt.subplot(121)\n",
    "sns.distplot(gdp['Year'])\n",
    "\n",
    "# Values\n",
    "plt.subplot(122)\n",
    "sns.distplot(gdp['Value'])\n",
    "\n",
    "plt.tight_layout(pad = 4)\n",
    "plt.show()"
   ]
  },
  {
   "cell_type": "markdown",
   "metadata": {},
   "source": [
    "### Conclusion"
   ]
  },
  {
   "cell_type": "markdown",
   "metadata": {},
   "source": [
    "###### Data Shape: \n",
    "Dateset comprises of 4431 observation and 8 characteristics. Out of which one is dependent variable and rest 7 are independent variables."
   ]
  },
  {
   "cell_type": "markdown",
   "metadata": {},
   "source": [
    "###### finding null value:\n",
    "Data has flot , integer and object values. No variable column has null/ missing values."
   ]
  },
  {
   "cell_type": "markdown",
   "metadata": {},
   "source": [
    "###### Count plot:\n",
    "From the visualization we can easily see that most Countey code count in same condition, and very few Country code in INIDA."
   ]
  },
  {
   "cell_type": "markdown",
   "metadata": {},
   "source": [
    "###### Heat Maps:\n",
    "From the visualization we can easily see that most Countey code count in same condition, and very few Country code in INIDA."
   ]
  },
  {
   "cell_type": "markdown",
   "metadata": {},
   "source": [
    "###### Outliers:\n",
    "Outlier is an observation point that is distant from other observations.\n",
    "same way column of year dosen't have a any outliers but column value having a outliers."
   ]
  },
  {
   "cell_type": "code",
   "execution_count": null,
   "metadata": {},
   "outputs": [],
   "source": []
  }
 ],
 "metadata": {
  "kernelspec": {
   "display_name": "Python 3",
   "language": "python",
   "name": "python3"
  },
  "language_info": {
   "codemirror_mode": {
    "name": "ipython",
    "version": 3
   },
   "file_extension": ".py",
   "mimetype": "text/x-python",
   "name": "python",
   "nbconvert_exporter": "python",
   "pygments_lexer": "ipython3",
   "version": "3.7.6"
  }
 },
 "nbformat": 4,
 "nbformat_minor": 4
}
