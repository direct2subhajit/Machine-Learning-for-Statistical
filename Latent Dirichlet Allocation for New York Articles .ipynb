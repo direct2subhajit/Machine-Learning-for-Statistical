{
 "cells": [
  {
   "cell_type": "code",
   "execution_count": 10,
   "metadata": {},
   "outputs": [],
   "source": [
    "from sklearn.feature_extraction.text import TfidfVectorizer, CountVectorizer\n",
    "import numpy as np\n",
    "import sys\n",
    "from sklearn.decomposition import NMF, LatentDirichletAllocation\n",
    "from stop_words import get_stop_words"
   ]
  },
  {
   "cell_type": "code",
   "execution_count": 11,
   "metadata": {},
   "outputs": [],
   "source": [
    "stop_words = get_stop_words('english')\n",
    "stop_words.append('said')"
   ]
  },
  {
   "cell_type": "code",
   "execution_count": 12,
   "metadata": {},
   "outputs": [
    {
     "name": "stdout",
     "output_type": "stream",
     "text": [
      "['a', 'about', 'above', 'after', 'again', 'against', 'all', 'am', 'an', 'and', 'any', 'are', \"aren't\", 'as', 'at', 'be', 'because', 'been', 'before', 'being', 'below', 'between', 'both', 'but', 'by', \"can't\", 'cannot', 'could', \"couldn't\", 'did', \"didn't\", 'do', 'does', \"doesn't\", 'doing', \"don't\", 'down', 'during', 'each', 'few', 'for', 'from', 'further', 'had', \"hadn't\", 'has', \"hasn't\", 'have', \"haven't\", 'having', 'he', \"he'd\", \"he'll\", \"he's\", 'her', 'here', \"here's\", 'hers', 'herself', 'him', 'himself', 'his', 'how', \"how's\", 'i', \"i'd\", \"i'll\", \"i'm\", \"i've\", 'if', 'in', 'into', 'is', \"isn't\", 'it', \"it's\", 'its', 'itself', \"let's\", 'me', 'more', 'most', \"mustn't\", 'my', 'myself', 'no', 'nor', 'not', 'of', 'off', 'on', 'once', 'only', 'or', 'other', 'ought', 'our', 'ours', 'ourselves', 'out', 'over', 'own', 'same', \"shan't\", 'she', \"she'd\", \"she'll\", \"she's\", 'should', \"shouldn't\", 'so', 'some', 'such', 'than', 'that', \"that's\", 'the', 'their', 'theirs', 'them', 'themselves', 'then', 'there', \"there's\", 'these', 'they', \"they'd\", \"they'll\", \"they're\", \"they've\", 'this', 'those', 'through', 'to', 'too', 'under', 'until', 'up', 'very', 'was', \"wasn't\", 'we', \"we'd\", \"we'll\", \"we're\", \"we've\", 'were', \"weren't\", 'what', \"what's\", 'when', \"when's\", 'where', \"where's\", 'which', 'while', 'who', \"who's\", 'whom', 'why', \"why's\", 'with', \"won't\", 'would', \"wouldn't\", 'you', \"you'd\", \"you'll\", \"you're\", \"you've\", 'your', 'yours', 'yourself', 'yourselves', 'said', 'said']\n",
      "176\n"
     ]
    }
   ],
   "source": [
    "print(stop_words)\n",
    "print(len(stop_words))"
   ]
  },
  {
   "cell_type": "code",
   "execution_count": 13,
   "metadata": {},
   "outputs": [],
   "source": [
    "all_words = stop_words\n",
    "documents = []\n",
    "for i in range(1981, 2018):\n",
    "    file = \"new_data/\" + str(i) + \".npy\"\n",
    "    year = np.load(file)\n",
    "    for j in range(0, len(year)):\n",
    "        documents.append(year[j])"
   ]
  },
  {
   "cell_type": "code",
   "execution_count": 14,
   "metadata": {},
   "outputs": [
    {
     "name": "stdout",
     "output_type": "stream",
     "text": [
      "hehe\n",
      "72078\n"
     ]
    }
   ],
   "source": [
    "print(\"hehe\")\n",
    "print(len(documents))\n",
    "\n",
    "no_features = 1000\n",
    "no_topics = 50"
   ]
  },
  {
   "cell_type": "code",
   "execution_count": 15,
   "metadata": {},
   "outputs": [
    {
     "name": "stdout",
     "output_type": "stream",
     "text": [
      "fff\n"
     ]
    },
    {
     "name": "stderr",
     "output_type": "stream",
     "text": [
      "C:\\Users\\Admin\\anaconda3\\envs\\venv\\lib\\site-packages\\sklearn\\feature_extraction\\text.py:386: UserWarning: Your stop_words may be inconsistent with your preprocessing. Tokenizing the stop words generated tokens ['aren', 'can', 'couldn', 'didn', 'doesn', 'don', 'hadn', 'hasn', 'haven', 'isn', 'let', 'll', 'mustn', 're', 'shan', 'shouldn', 've', 'wasn', 'weren', 'won', 'wouldn'] not in stop_words.\n",
      "  'stop_words.' % sorted(inconsistent))\n"
     ]
    }
   ],
   "source": [
    "tf_vectorizer = CountVectorizer(max_df=0.95, min_df=2, max_features=no_features, stop_words=all_words)\n",
    "print(\"fff\")\n",
    "tf = tf_vectorizer.fit_transform(documents)\n",
    "tf_feature_names = tf_vectorizer.get_feature_names()"
   ]
  },
  {
   "cell_type": "code",
   "execution_count": 16,
   "metadata": {},
   "outputs": [],
   "source": [
    "lda = LatentDirichletAllocation(n_components=no_topics, max_iter=5, learning_method='online', learning_offset=50.,random_state=0).fit(tf)"
   ]
  },
  {
   "cell_type": "code",
   "execution_count": 17,
   "metadata": {},
   "outputs": [
    {
     "name": "stdout",
     "output_type": "stream",
     "text": [
      "Topic 0:\n",
      "technology computer data software apple digital systems system information use users can computers company will search new used research personal also using based companies network like called video operating available high work san including one security product access industry home mail programs business equipment control standard services communications program create\n",
      "Topic 1:\n",
      "fed week treasury federal tuesday bonds wednesday reserve new securities markets authority thursday month day friday market housing revenue general york monday three late bill six issues billion last rate system bond due government debt scheduled expected supply finance investors washington weeks one credit close announced board two senior ended\n",
      "Topic 2:\n",
      "service web phone services customers program free local can access mail will telephone consumers offer use pay companies calls programs also call long available cost communications number charge costs credit offering system provide users month line make consumer like plans using may lines allow charges get many offered rules public\n",
      "Topic 3:\n",
      "new will 000 year york city years one two now like next 10 people square also million first can center three last many 100 five 500 20 cities already area four 30 number 50 around office high start local half times time old just building 200 street long 15 open\n",
      "Topic 4:\n",
      "health care dr clinton medical drug settlement hospital costs cases center system services university plans administration cost national study organization groups private provide institute help experts public plan control community approved received pay states insurance found results spent also association group school evidence small use reduce nearly provided serious taking\n",
      "Topic 5:\n",
      "meeting agreement thursday talks will members two conference monday statement today week negotiations friday letter wednesday plan union group last agreed tuesday new officials decision also expected next day proposal news made told spokesman first announced meet called end reached scheduled days time three met month final leaders set weeks\n",
      "Topic 6:\n",
      "percent quarter year billion million earnings profit first revenue sales rose share loss net fourth second third reported cents last earlier results analysts fell expected income period compared growth operating profits increased company increase costs analyst ago ended strong 12 losses months half decline largest 11 business 15 yesterday 10\n",
      "Topic 7:\n",
      "million shares offering public percent stock corporation sale agreed group based yesterday inc company sold cash common buy 50 will securities sell exchange first debt new filed 100 agreement york 25 price unit pay worth one offer commission capital two international today 75 10 announced due stake received estimated revenue\n",
      "Topic 8:\n",
      "hong kong asia region global china central international world chinese business rule percent director monday growing year economic development around civil raised see major first foreign concern cities increasingly move future million biggest despite special middle huge plans concerns growth market last owned raise september moved especially also 20 difficult\n",
      "Topic 9:\n",
      "tax income taxes pay money percent plan will budget year 000 can benefits social people revenue may paid plans government financial cost years billion many spending savings make amount new less much accounts higher also system bill rate law lower security families account cash finance credit increase programs reduce business\n",
      "Topic 10:\n",
      "state insurance federal california loan savings life debt san government billion national states policies new association home policy pay financial loans york industry corporation nation million cost years institutions losses plan paid first board program agency assets will department largest today also loss aid worth private office 000 consumer known\n",
      "Topic 11:\n",
      "like one can people even time just now many get re way don say much make want still think going back may see good says go know also will well work us first something take world made mr long really things might right lot little ve another years around come\n",
      "Topic 12:\n",
      "united states nations countries world international country foreign aid global american will council africa economic organization also america development governments help new security region now government policy program washington war president crisis india efforts food western canada support many community secretary need general say years year use conference already europe\n",
      "Topic 13:\n",
      "european europe union germany german italy countries west eastern east western governments member britain across currency economic common authorities leaders parliament country finance partners among far center right social main left officials including foreign system domestic idea year former remain war like area concerns will need part strong political minister\n",
      "Topic 14:\n",
      "microsoft google internet online mrs obama reagan inflation public economic mr government administration much budget britain economy team see rate tax many less party new spending side even now united will plan things yet states can since british senator revenue become supply performance including among management office country keep seems\n",
      "Topic 15:\n",
      "inc share co corp cents 000 10 30 25 50 shares 75 12 15 20 300 100 35 13 14 american group general 16 22 11 500 17 financial 24 19 18 200 21 40 60 services first standard stores air national 80 international united concern home 70 new list\n",
      "Topic 16:\n",
      "france french paris de europe european countries world minister also national measures ministry today head finance official owned foreign government debate week industrial country italy state community month planned daily britain last group among possible one given plans called arab decided first told saying president two wednesday leading may certain\n",
      "Topic 17:\n",
      "police people killed government security officials group death attack authorities attacks violence one groups officers last least friday city many sunday several including human reported also died thursday country saturday monday since tuesday members three wednesday two days ministry thousands statement capital according year 000 news day recent man near\n",
      "Topic 18:\n",
      "israel israeli syria palestinian west arab peace east bank al middle security state minister talks authority will prime settlement also two officials today mr violence negotiations group leader border attacks organization deal leaders region official process right one saying land stop sunday agreement foreign called political movement part since international\n",
      "Topic 19:\n",
      "north south korea students mexico school university drug border two ministry state six recent young years high last anti de across three country study main one capital believed four used city near third year accused began according 000 part taking sent raised northern low including national also trying building authorities\n",
      "Topic 20:\n",
      "sales percent year car cars stores ford store last company brand sold million market new selling consumers states customers general month united first three production 000 10 also years industry department american increase sell according since goods light consumer may annual including made four months america ago sale like 12\n",
      "Topic 21:\n",
      "american officials states united bush administration official state washington intelligence department americans security senior secretary president government one last say also national foreign central military operations white today house effort made policy told relations including america information week involved part two visit evidence agency efforts defense working middle asked group\n",
      "Topic 22:\n",
      "media news television advertising video network new cable music campaign show networks time magazine agency radio game million shows york will times newspaper commercial week account communications group marketing two page agencies revenue owned executives daily spending record national also estimated include world created among called night popular added first\n",
      "Topic 23:\n",
      "percent year rate bonds bond rates interest yield market 10 term average point points 30 short higher investors long price low three treasury high issue lower debt 12 15 one month due 25 offered data 11 yesterday five standard two poor issues prices years 20 billion may 13 funds six\n",
      "Topic 24:\n",
      "trump nuclear russian soviet moscow nato weapons president arms united security defense program states union military foreign western relations also officials mr agency war washington american new will first range policy administration long made news control official might west secretary told use state deal whether today meeting saying experts threat\n",
      "Topic 25:\n",
      "company billion deal executive chief business will companies percent board executives last stock shareholders also shares share stake financial chairman management largest offer two analysts bid year cash corporation investors corporate investment value one yesterday announced based including sale operations plans plan pay analyst sell made employees close new million\n",
      "Topic 26:\n",
      "companies market industry business like will price euro years year big many now prices high global company say last new cost also markets costs much even still buy analysts less small according consumers research one competition low products make sell can large major growing demand two recent long customers well\n",
      "Topic 27:\n",
      "japan trade japanese american states foreign united world goods free billion agreement deal ministry market trading markets will economic global products asia year economy domestic industrial open largest made companies two years parts also finance technology dollar long partners much america make washington investment europe one making country negotiations new\n",
      "Topic 28:\n",
      "stock market trading stocks index shares exchange investors fell rose new prices price markets yesterday points york day percent 500 street average analysts closed wall week earnings since close dollar big buy company last also high poor friday value share industrial standard securities american higher dropped news may 10 lost\n",
      "Topic 29:\n",
      "china chinese beijing government canada foreign officials state official country also news world economic last year states countries trade authorities relations visit united say recent international owned two according made control agency technology system efforts may domestic policy university announced including allow based rules even run long currency top week\n",
      "Topic 30:\n",
      "military forces army soldiers troops war fire force two general air fighting area border defense city armed miles base killed today near southern operations attack three officers control one ground town northern according operation local weapons region capital spokesman south areas eastern hit central four along officer heavy north around\n",
      "Topic 31:\n",
      "ms home mrs real estate book homes house housing family like years office business new time people 000 year also according last says two york sold first living now job bought many site months one wife money month since ago can good personal single just well help including started back\n",
      "Topic 32:\n",
      "fund investors funds investment firm money capital firms financial equity management private investments assets street wall securities managers markets market value risk clients companies manager years return year will cash according last performance stocks group one growth billion small may partners large public can stock term based also end buy\n",
      "Topic 33:\n",
      "house president congress white committee administration republican senate bill senator rights policy washington human support chairman secretary reagan campaign democratic john vote political debate today presidential national members proposal issue groups new approved proposed staff public action act law plan nation majority effort including think will whether told called make\n",
      "Topic 34:\n",
      "oil energy gas prices production day million demand percent billion world year power increase largest cut total middle countries last country higher much rising north experts west region canada increased domestic estimated investments also drop daily biggest equipment western states next rise government eastern institute heavy low light 20 capital\n",
      "Topic 35:\n",
      "report last month according reported released reports since december release march january number news months year department 000 february september october july november april showed figures august june times newspaper numbers also found daily today percent new week total show earlier based previous time three increase declined level figure six\n",
      "Topic 36:\n",
      "company products com food based product paper equipment maker unit consumer marketing contract corporation inc makes business division line sold spokesman terms sell general operations bought industrial buy include supply san parts stores owned related international chicago drug california businesses signed held three received services agreed plant concern production five\n",
      "Topic 37:\n",
      "british london britain northern david world global europe leave major john prime european parliament minister around single michael times head mrs remain including canada debate service part will terms next one north services years community home across office year countries independent may raised sunday financial main particularly public domestic view\n",
      "Topic 38:\n",
      "workers jobs employees work labor job airlines air 000 travel business pay force year working cut company many benefits years costs people hours industry management last time million managers hour cost class percent week contract plans lost program staff low paid back three number two new also since 10 month\n",
      "Topic 39:\n",
      "mr former years year interview last two president time chief also left later lawyer became top added took office old team worked role job one since months came began ago business three according wrote chairman several man helped early will personal described wanted executive head spent went asked made whose\n",
      "Topic 40:\n",
      "women family children one years men two old year young people home black father school life man many day three local city son first town wife families told house country left now white live never came street ago back last four name just later residents small away around living night\n",
      "Topic 41:\n",
      "iraq iran al islamic iraqi afghanistan india pakistan saudi baghdad war arab attacks military council weapons forces intelligence syria also troops attack western region two leaders support say group led country east fight long months nations based analysts since 11 recent threat foreign border still countries added north agency members\n",
      "Topic 42:\n",
      "bank banks financial credit loans billion banking debt money central crisis finance institutions capital loan assets system losses risk interest dollars accounts cash will commercial america government markets currency largest one pay problems large private also account bad new fund country much help last first many funds big economy biggest\n",
      "Topic 43:\n",
      "government minister mr president prime country will political leaders foreign state also last new officials general public former leader power week official opposition news monday two support tuesday today parliament since saying told crisis speech made called military end national office friday take one first time peace announced reporters month\n",
      "Topic 44:\n",
      "president executive new chief vice york group director part senior officer named chairman company marketing will office post division unit joined brand business executives partners management general chicago corporate manager america john recently inc account co san financial operating international services global corporation michael operations robert head companies also sales\n",
      "Topic 45:\n",
      "court case judge justice law charges trial legal investigation rights lawyers federal former government cases filed accused decision evidence states united told two wrote order information defense whether made department statement civil human saying brought without according involved found charge one action public general system seeking asked international comment tried\n",
      "Topic 46:\n",
      "party political russia election vote country elections national opposition state campaign power parliament many government new people church leader will democratic parties social leaders communist former one coalition right presidential support years also now last won even movement first public members majority economic two change percent anti since left system\n",
      "Topic 47:\n",
      "commission agency law new public also rules information safety one board lawyer whether york university federal may group including companies review director according study found firm professor agencies used office two general members last former legal use several known research comment years issue department investigation made clients problems issues work\n",
      "Topic 48:\n",
      "site project power water sites plant building construction build development land built commercial industrial government state technology energy near plan city production plans cost million used supply private research southern owned housing system spent company public director large planning northern main planned homes parts light systems including use national run\n",
      "Topic 49:\n",
      "percent economy economic growth rate year rates inflation will prices spending economists dollar policy economist interest government increase currency last central since consumer rise rising higher may still cut months recent markets data low chief decline market expected also much next now bank domestic likely budget term goods investment price\n"
     ]
    }
   ],
   "source": [
    "def display_topics(model, feature_names, no_top_words):\n",
    "    for topic_idx, topic in enumerate(model.components_):\n",
    "        print(\"Topic %d:\" % (topic_idx))\n",
    "        print(\" \".join([feature_names[i]\n",
    "                        for i in topic.argsort()[:-no_top_words - 1:-1]]))\n",
    "\n",
    "no_top_words = 50\n",
    "display_topics(lda, tf_feature_names, no_top_words)"
   ]
  },
  {
   "cell_type": "code",
   "execution_count": 18,
   "metadata": {},
   "outputs": [
    {
     "name": "stdout",
     "output_type": "stream",
     "text": [
      "LDA perplexity is 602.7828108943673\n",
      "LDA score is -86783161.31553352\n"
     ]
    }
   ],
   "source": [
    "print(\"LDA perplexity is \" + str(lda.perplexity(tf)))\n",
    "print(\"LDA score is \" + str(lda.score(tf)))"
   ]
  },
  {
   "cell_type": "code",
   "execution_count": 19,
   "metadata": {},
   "outputs": [],
   "source": [
    "distribution = lda.transform(tf)\n",
    "\n",
    "np.save(\"Distributions/50topics.npy\", distribution)"
   ]
  },
  {
   "cell_type": "code",
   "execution_count": null,
   "metadata": {},
   "outputs": [],
   "source": []
  }
 ],
 "metadata": {
  "kernelspec": {
   "display_name": "Python 3",
   "language": "python",
   "name": "python3"
  },
  "language_info": {
   "codemirror_mode": {
    "name": "ipython",
    "version": 3
   },
   "file_extension": ".py",
   "mimetype": "text/x-python",
   "name": "python",
   "nbconvert_exporter": "python",
   "pygments_lexer": "ipython3",
   "version": "3.6.10"
  }
 },
 "nbformat": 4,
 "nbformat_minor": 4
}
