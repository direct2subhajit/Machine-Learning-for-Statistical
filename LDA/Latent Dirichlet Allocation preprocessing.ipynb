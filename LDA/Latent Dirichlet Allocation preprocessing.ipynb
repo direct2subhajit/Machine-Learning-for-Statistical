{
 "cells": [
  {
   "cell_type": "code",
   "execution_count": 6,
   "metadata": {},
   "outputs": [],
   "source": [
    "import numpy as np\n",
    "import pandas as pd"
   ]
  },
  {
   "cell_type": "code",
   "execution_count": 7,
   "metadata": {},
   "outputs": [],
   "source": [
    "codes = [\"Yuan\",\"INR\",\"CAD\", \"GBP\", \"JPY\", \"Swiss\"]\n",
    "yearly_exchange_rate = np.zeros((36, 4))"
   ]
  },
  {
   "cell_type": "code",
   "execution_count": 14,
   "metadata": {},
   "outputs": [
    {
     "name": "stdout",
     "output_type": "stream",
     "text": [
      " \n",
      " \n",
      " \n",
      " \n"
     ]
    }
   ],
   "source": [
    "for k in range(0, 4):\n",
    "    file = open(\"C:/Users/Admin/USD_\" + codes[k] + \".txt\")\n",
    "    number = []\n",
    "    try:      \n",
    "        for f in file:\n",
    "            number.append(float(f[8:]))\n",
    "        start = 120\n",
    "        for j in range(1981, 2017):\n",
    "            tot = 0.0\n",
    "            for i in range(0, 12):\n",
    "                tot = tot + number[start + i]\n",
    "\n",
    "            tot = tot/12\n",
    "            start = start + 12\n",
    "            yearly_exchange_rate[j - 1981][k] = tot\n",
    "    except:\n",
    "        print(\" \")\n",
    "\n",
    "np.save(\"new_data/exchange_rates\", yearly_exchange_rate)\n"
   ]
  },
  {
   "cell_type": "code",
   "execution_count": null,
   "metadata": {},
   "outputs": [],
   "source": []
  }
 ],
 "metadata": {
  "kernelspec": {
   "display_name": "Python 3",
   "language": "python",
   "name": "python3"
  },
  "language_info": {
   "codemirror_mode": {
    "name": "ipython",
    "version": 3
   },
   "file_extension": ".py",
   "mimetype": "text/x-python",
   "name": "python",
   "nbconvert_exporter": "python",
   "pygments_lexer": "ipython3",
   "version": "3.6.10"
  }
 },
 "nbformat": 4,
 "nbformat_minor": 4
}
